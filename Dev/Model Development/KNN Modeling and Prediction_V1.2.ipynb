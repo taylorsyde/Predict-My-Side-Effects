{
 "cells": [
  {
   "cell_type": "markdown",
   "id": "11329ccb",
   "metadata": {},
   "source": [
    "## Import Dependancies"
   ]
  },
  {
   "cell_type": "code",
   "execution_count": 1,
   "id": "53b5bce5",
   "metadata": {},
   "outputs": [],
   "source": [
    "# Dependencies and Setup\n",
    "import pandas as pd\n",
    "import numpy as np\n",
    "import matplotlib.pyplot as plt\n",
    "from sklearn.neighbors import KNeighborsClassifier, KDTree\n",
    "import os\n",
    "from sklearn.model_selection import train_test_split\n",
    "from sklearn.preprocessing import LabelEncoder, StandardScaler\n",
    "from wordcloud import WordCloud, STOPWORDS\n",
    "#from sklearn.metrics import confusion_matrix, classification_report"
   ]
  },
  {
   "cell_type": "code",
   "execution_count": 2,
   "id": "2a033944",
   "metadata": {},
   "outputs": [
    {
     "data": {
      "text/html": [
       "<div>\n",
       "<style scoped>\n",
       "    .dataframe tbody tr th:only-of-type {\n",
       "        vertical-align: middle;\n",
       "    }\n",
       "\n",
       "    .dataframe tbody tr th {\n",
       "        vertical-align: top;\n",
       "    }\n",
       "\n",
       "    .dataframe thead th {\n",
       "        text-align: right;\n",
       "    }\n",
       "</style>\n",
       "<table border=\"1\" class=\"dataframe\">\n",
       "  <thead>\n",
       "    <tr style=\"text-align: right;\">\n",
       "      <th></th>\n",
       "      <th>VAERS_ID</th>\n",
       "      <th>SYMPTOM</th>\n",
       "      <th>ASSIGNED_GROUP</th>\n",
       "      <th>SEVERITY_LEVEL</th>\n",
       "      <th>DIED</th>\n",
       "      <th>L_THREAT</th>\n",
       "      <th>HOSPITAL</th>\n",
       "      <th>AGE_YRS</th>\n",
       "      <th>AGE_GROUP</th>\n",
       "      <th>OTHER_MEDS</th>\n",
       "      <th>...</th>\n",
       "      <th>VAX_SITE_RA</th>\n",
       "      <th>18-25</th>\n",
       "      <th>26-35</th>\n",
       "      <th>36-45</th>\n",
       "      <th>46-55</th>\n",
       "      <th>56-65</th>\n",
       "      <th>66-75</th>\n",
       "      <th>76-85</th>\n",
       "      <th>86-95</th>\n",
       "      <th>96 +</th>\n",
       "    </tr>\n",
       "  </thead>\n",
       "  <tbody>\n",
       "    <tr>\n",
       "      <th>0</th>\n",
       "      <td>916600</td>\n",
       "      <td>Dysphagia</td>\n",
       "      <td>Difficulty swallowing</td>\n",
       "      <td>MILD</td>\n",
       "      <td>0.0</td>\n",
       "      <td>0.0</td>\n",
       "      <td>0.0</td>\n",
       "      <td>33.0</td>\n",
       "      <td>26-35</td>\n",
       "      <td>0.0</td>\n",
       "      <td>...</td>\n",
       "      <td>0.0</td>\n",
       "      <td>0</td>\n",
       "      <td>1</td>\n",
       "      <td>0</td>\n",
       "      <td>0</td>\n",
       "      <td>0</td>\n",
       "      <td>0</td>\n",
       "      <td>0</td>\n",
       "      <td>0</td>\n",
       "      <td>0</td>\n",
       "    </tr>\n",
       "    <tr>\n",
       "      <th>1</th>\n",
       "      <td>917168</td>\n",
       "      <td>Dysphagia</td>\n",
       "      <td>Difficulty swallowing</td>\n",
       "      <td>MILD</td>\n",
       "      <td>0.0</td>\n",
       "      <td>0.0</td>\n",
       "      <td>0.0</td>\n",
       "      <td>64.0</td>\n",
       "      <td>56-65</td>\n",
       "      <td>1.0</td>\n",
       "      <td>...</td>\n",
       "      <td>1.0</td>\n",
       "      <td>0</td>\n",
       "      <td>0</td>\n",
       "      <td>0</td>\n",
       "      <td>0</td>\n",
       "      <td>1</td>\n",
       "      <td>0</td>\n",
       "      <td>0</td>\n",
       "      <td>0</td>\n",
       "      <td>0</td>\n",
       "    </tr>\n",
       "    <tr>\n",
       "      <th>2</th>\n",
       "      <td>918386</td>\n",
       "      <td>Dysphagia</td>\n",
       "      <td>Difficulty swallowing</td>\n",
       "      <td>MILD</td>\n",
       "      <td>0.0</td>\n",
       "      <td>0.0</td>\n",
       "      <td>0.0</td>\n",
       "      <td>62.0</td>\n",
       "      <td>56-65</td>\n",
       "      <td>1.0</td>\n",
       "      <td>...</td>\n",
       "      <td>1.0</td>\n",
       "      <td>0</td>\n",
       "      <td>0</td>\n",
       "      <td>0</td>\n",
       "      <td>0</td>\n",
       "      <td>1</td>\n",
       "      <td>0</td>\n",
       "      <td>0</td>\n",
       "      <td>0</td>\n",
       "      <td>0</td>\n",
       "    </tr>\n",
       "    <tr>\n",
       "      <th>3</th>\n",
       "      <td>918393</td>\n",
       "      <td>Dysphagia</td>\n",
       "      <td>Difficulty swallowing</td>\n",
       "      <td>MILD</td>\n",
       "      <td>0.0</td>\n",
       "      <td>0.0</td>\n",
       "      <td>0.0</td>\n",
       "      <td>62.0</td>\n",
       "      <td>56-65</td>\n",
       "      <td>1.0</td>\n",
       "      <td>...</td>\n",
       "      <td>1.0</td>\n",
       "      <td>0</td>\n",
       "      <td>0</td>\n",
       "      <td>0</td>\n",
       "      <td>0</td>\n",
       "      <td>1</td>\n",
       "      <td>0</td>\n",
       "      <td>0</td>\n",
       "      <td>0</td>\n",
       "      <td>0</td>\n",
       "    </tr>\n",
       "    <tr>\n",
       "      <th>4</th>\n",
       "      <td>918479</td>\n",
       "      <td>Dysphagia</td>\n",
       "      <td>Difficulty swallowing</td>\n",
       "      <td>MILD</td>\n",
       "      <td>0.0</td>\n",
       "      <td>0.0</td>\n",
       "      <td>0.0</td>\n",
       "      <td>37.0</td>\n",
       "      <td>36-45</td>\n",
       "      <td>1.0</td>\n",
       "      <td>...</td>\n",
       "      <td>1.0</td>\n",
       "      <td>0</td>\n",
       "      <td>0</td>\n",
       "      <td>1</td>\n",
       "      <td>0</td>\n",
       "      <td>0</td>\n",
       "      <td>0</td>\n",
       "      <td>0</td>\n",
       "      <td>0</td>\n",
       "      <td>0</td>\n",
       "    </tr>\n",
       "  </tbody>\n",
       "</table>\n",
       "<p>5 rows × 32 columns</p>\n",
       "</div>"
      ],
      "text/plain": [
       "   VAERS_ID    SYMPTOM         ASSIGNED_GROUP SEVERITY_LEVEL  DIED  L_THREAT  \\\n",
       "0    916600  Dysphagia  Difficulty swallowing           MILD   0.0       0.0   \n",
       "1    917168  Dysphagia  Difficulty swallowing           MILD   0.0       0.0   \n",
       "2    918386  Dysphagia  Difficulty swallowing           MILD   0.0       0.0   \n",
       "3    918393  Dysphagia  Difficulty swallowing           MILD   0.0       0.0   \n",
       "4    918479  Dysphagia  Difficulty swallowing           MILD   0.0       0.0   \n",
       "\n",
       "   HOSPITAL  AGE_YRS AGE_GROUP  OTHER_MEDS  ...  VAX_SITE_RA  18-25  26-35  \\\n",
       "0       0.0     33.0     26-35         0.0  ...          0.0      0      1   \n",
       "1       0.0     64.0     56-65         1.0  ...          1.0      0      0   \n",
       "2       0.0     62.0     56-65         1.0  ...          1.0      0      0   \n",
       "3       0.0     62.0     56-65         1.0  ...          1.0      0      0   \n",
       "4       0.0     37.0     36-45         1.0  ...          1.0      0      0   \n",
       "\n",
       "   36-45  46-55  56-65  66-75  76-85  86-95  96 +  \n",
       "0      0      0      0      0      0      0     0  \n",
       "1      0      0      1      0      0      0     0  \n",
       "2      0      0      1      0      0      0     0  \n",
       "3      0      0      1      0      0      0     0  \n",
       "4      1      0      0      0      0      0     0  \n",
       "\n",
       "[5 rows x 32 columns]"
      ]
     },
     "execution_count": 2,
     "metadata": {},
     "output_type": "execute_result"
    }
   ],
   "source": [
    "# File to Load (Remember to Change These)\n",
    "data = \"../Resources/FINAL_CLEAN_FILE.csv\"\n",
    "\n",
    "# read to dataframe\n",
    "data_df = pd.read_csv(data)\n",
    "data_df.head()"
   ]
  },
  {
   "cell_type": "code",
   "execution_count": 3,
   "id": "f172845e",
   "metadata": {},
   "outputs": [],
   "source": [
    "severity = data_df['SEVERITY_LEVEL'].unique()"
   ]
  },
  {
   "cell_type": "markdown",
   "id": "1e6ab4f0",
   "metadata": {},
   "source": [
    "## Prep Data For Model"
   ]
  },
  {
   "cell_type": "code",
   "execution_count": 4,
   "id": "6bec43b8",
   "metadata": {},
   "outputs": [
    {
     "data": {
      "text/html": [
       "<div>\n",
       "<style scoped>\n",
       "    .dataframe tbody tr th:only-of-type {\n",
       "        vertical-align: middle;\n",
       "    }\n",
       "\n",
       "    .dataframe tbody tr th {\n",
       "        vertical-align: top;\n",
       "    }\n",
       "\n",
       "    .dataframe thead th {\n",
       "        text-align: right;\n",
       "    }\n",
       "</style>\n",
       "<table border=\"1\" class=\"dataframe\">\n",
       "  <thead>\n",
       "    <tr style=\"text-align: right;\">\n",
       "      <th></th>\n",
       "      <th>DIED</th>\n",
       "      <th>L_THREAT</th>\n",
       "      <th>OTHER_MEDS</th>\n",
       "      <th>CUR_ILL</th>\n",
       "      <th>HISTORY</th>\n",
       "      <th>PRIOR_VAX</th>\n",
       "      <th>ALLERGIES</th>\n",
       "      <th>F</th>\n",
       "      <th>M</th>\n",
       "      <th>JANSSEN</th>\n",
       "      <th>...</th>\n",
       "      <th>VAX_SITE_RA</th>\n",
       "      <th>18-25</th>\n",
       "      <th>26-35</th>\n",
       "      <th>36-45</th>\n",
       "      <th>46-55</th>\n",
       "      <th>56-65</th>\n",
       "      <th>66-75</th>\n",
       "      <th>76-85</th>\n",
       "      <th>86-95</th>\n",
       "      <th>96 +</th>\n",
       "    </tr>\n",
       "  </thead>\n",
       "  <tbody>\n",
       "    <tr>\n",
       "      <th>0</th>\n",
       "      <td>0.0</td>\n",
       "      <td>0.0</td>\n",
       "      <td>0.0</td>\n",
       "      <td>0.0</td>\n",
       "      <td>0.0</td>\n",
       "      <td>0.0</td>\n",
       "      <td>1.0</td>\n",
       "      <td>1.0</td>\n",
       "      <td>0.0</td>\n",
       "      <td>0.0</td>\n",
       "      <td>...</td>\n",
       "      <td>0.0</td>\n",
       "      <td>0</td>\n",
       "      <td>1</td>\n",
       "      <td>0</td>\n",
       "      <td>0</td>\n",
       "      <td>0</td>\n",
       "      <td>0</td>\n",
       "      <td>0</td>\n",
       "      <td>0</td>\n",
       "      <td>0</td>\n",
       "    </tr>\n",
       "    <tr>\n",
       "      <th>1</th>\n",
       "      <td>0.0</td>\n",
       "      <td>0.0</td>\n",
       "      <td>1.0</td>\n",
       "      <td>0.0</td>\n",
       "      <td>1.0</td>\n",
       "      <td>0.0</td>\n",
       "      <td>1.0</td>\n",
       "      <td>1.0</td>\n",
       "      <td>0.0</td>\n",
       "      <td>0.0</td>\n",
       "      <td>...</td>\n",
       "      <td>1.0</td>\n",
       "      <td>0</td>\n",
       "      <td>0</td>\n",
       "      <td>0</td>\n",
       "      <td>0</td>\n",
       "      <td>1</td>\n",
       "      <td>0</td>\n",
       "      <td>0</td>\n",
       "      <td>0</td>\n",
       "      <td>0</td>\n",
       "    </tr>\n",
       "    <tr>\n",
       "      <th>2</th>\n",
       "      <td>0.0</td>\n",
       "      <td>0.0</td>\n",
       "      <td>1.0</td>\n",
       "      <td>0.0</td>\n",
       "      <td>0.0</td>\n",
       "      <td>0.0</td>\n",
       "      <td>1.0</td>\n",
       "      <td>1.0</td>\n",
       "      <td>0.0</td>\n",
       "      <td>0.0</td>\n",
       "      <td>...</td>\n",
       "      <td>1.0</td>\n",
       "      <td>0</td>\n",
       "      <td>0</td>\n",
       "      <td>0</td>\n",
       "      <td>0</td>\n",
       "      <td>1</td>\n",
       "      <td>0</td>\n",
       "      <td>0</td>\n",
       "      <td>0</td>\n",
       "      <td>0</td>\n",
       "    </tr>\n",
       "    <tr>\n",
       "      <th>3</th>\n",
       "      <td>0.0</td>\n",
       "      <td>0.0</td>\n",
       "      <td>1.0</td>\n",
       "      <td>0.0</td>\n",
       "      <td>0.0</td>\n",
       "      <td>0.0</td>\n",
       "      <td>1.0</td>\n",
       "      <td>1.0</td>\n",
       "      <td>0.0</td>\n",
       "      <td>0.0</td>\n",
       "      <td>...</td>\n",
       "      <td>1.0</td>\n",
       "      <td>0</td>\n",
       "      <td>0</td>\n",
       "      <td>0</td>\n",
       "      <td>0</td>\n",
       "      <td>1</td>\n",
       "      <td>0</td>\n",
       "      <td>0</td>\n",
       "      <td>0</td>\n",
       "      <td>0</td>\n",
       "    </tr>\n",
       "    <tr>\n",
       "      <th>4</th>\n",
       "      <td>0.0</td>\n",
       "      <td>0.0</td>\n",
       "      <td>1.0</td>\n",
       "      <td>1.0</td>\n",
       "      <td>1.0</td>\n",
       "      <td>0.0</td>\n",
       "      <td>1.0</td>\n",
       "      <td>1.0</td>\n",
       "      <td>0.0</td>\n",
       "      <td>0.0</td>\n",
       "      <td>...</td>\n",
       "      <td>1.0</td>\n",
       "      <td>0</td>\n",
       "      <td>0</td>\n",
       "      <td>1</td>\n",
       "      <td>0</td>\n",
       "      <td>0</td>\n",
       "      <td>0</td>\n",
       "      <td>0</td>\n",
       "      <td>0</td>\n",
       "      <td>0</td>\n",
       "    </tr>\n",
       "    <tr>\n",
       "      <th>...</th>\n",
       "      <td>...</td>\n",
       "      <td>...</td>\n",
       "      <td>...</td>\n",
       "      <td>...</td>\n",
       "      <td>...</td>\n",
       "      <td>...</td>\n",
       "      <td>...</td>\n",
       "      <td>...</td>\n",
       "      <td>...</td>\n",
       "      <td>...</td>\n",
       "      <td>...</td>\n",
       "      <td>...</td>\n",
       "      <td>...</td>\n",
       "      <td>...</td>\n",
       "      <td>...</td>\n",
       "      <td>...</td>\n",
       "      <td>...</td>\n",
       "      <td>...</td>\n",
       "      <td>...</td>\n",
       "      <td>...</td>\n",
       "      <td>...</td>\n",
       "    </tr>\n",
       "    <tr>\n",
       "      <th>26477</th>\n",
       "      <td>0.0</td>\n",
       "      <td>0.0</td>\n",
       "      <td>1.0</td>\n",
       "      <td>0.0</td>\n",
       "      <td>1.0</td>\n",
       "      <td>1.0</td>\n",
       "      <td>1.0</td>\n",
       "      <td>0.0</td>\n",
       "      <td>1.0</td>\n",
       "      <td>0.0</td>\n",
       "      <td>...</td>\n",
       "      <td>0.0</td>\n",
       "      <td>0</td>\n",
       "      <td>0</td>\n",
       "      <td>0</td>\n",
       "      <td>0</td>\n",
       "      <td>0</td>\n",
       "      <td>1</td>\n",
       "      <td>0</td>\n",
       "      <td>0</td>\n",
       "      <td>0</td>\n",
       "    </tr>\n",
       "    <tr>\n",
       "      <th>26478</th>\n",
       "      <td>0.0</td>\n",
       "      <td>0.0</td>\n",
       "      <td>1.0</td>\n",
       "      <td>1.0</td>\n",
       "      <td>1.0</td>\n",
       "      <td>0.0</td>\n",
       "      <td>1.0</td>\n",
       "      <td>1.0</td>\n",
       "      <td>0.0</td>\n",
       "      <td>0.0</td>\n",
       "      <td>...</td>\n",
       "      <td>1.0</td>\n",
       "      <td>0</td>\n",
       "      <td>0</td>\n",
       "      <td>0</td>\n",
       "      <td>0</td>\n",
       "      <td>0</td>\n",
       "      <td>0</td>\n",
       "      <td>1</td>\n",
       "      <td>0</td>\n",
       "      <td>0</td>\n",
       "    </tr>\n",
       "    <tr>\n",
       "      <th>26479</th>\n",
       "      <td>0.0</td>\n",
       "      <td>0.0</td>\n",
       "      <td>1.0</td>\n",
       "      <td>1.0</td>\n",
       "      <td>1.0</td>\n",
       "      <td>0.0</td>\n",
       "      <td>1.0</td>\n",
       "      <td>0.0</td>\n",
       "      <td>1.0</td>\n",
       "      <td>0.0</td>\n",
       "      <td>...</td>\n",
       "      <td>1.0</td>\n",
       "      <td>0</td>\n",
       "      <td>0</td>\n",
       "      <td>0</td>\n",
       "      <td>0</td>\n",
       "      <td>0</td>\n",
       "      <td>0</td>\n",
       "      <td>1</td>\n",
       "      <td>0</td>\n",
       "      <td>0</td>\n",
       "    </tr>\n",
       "    <tr>\n",
       "      <th>26480</th>\n",
       "      <td>0.0</td>\n",
       "      <td>0.0</td>\n",
       "      <td>0.0</td>\n",
       "      <td>0.0</td>\n",
       "      <td>1.0</td>\n",
       "      <td>0.0</td>\n",
       "      <td>0.0</td>\n",
       "      <td>1.0</td>\n",
       "      <td>0.0</td>\n",
       "      <td>0.0</td>\n",
       "      <td>...</td>\n",
       "      <td>1.0</td>\n",
       "      <td>0</td>\n",
       "      <td>0</td>\n",
       "      <td>0</td>\n",
       "      <td>0</td>\n",
       "      <td>0</td>\n",
       "      <td>0</td>\n",
       "      <td>1</td>\n",
       "      <td>0</td>\n",
       "      <td>0</td>\n",
       "    </tr>\n",
       "    <tr>\n",
       "      <th>26481</th>\n",
       "      <td>0.0</td>\n",
       "      <td>0.0</td>\n",
       "      <td>1.0</td>\n",
       "      <td>0.0</td>\n",
       "      <td>1.0</td>\n",
       "      <td>0.0</td>\n",
       "      <td>0.0</td>\n",
       "      <td>0.0</td>\n",
       "      <td>1.0</td>\n",
       "      <td>0.0</td>\n",
       "      <td>...</td>\n",
       "      <td>0.0</td>\n",
       "      <td>0</td>\n",
       "      <td>1</td>\n",
       "      <td>0</td>\n",
       "      <td>0</td>\n",
       "      <td>0</td>\n",
       "      <td>0</td>\n",
       "      <td>0</td>\n",
       "      <td>0</td>\n",
       "      <td>0</td>\n",
       "    </tr>\n",
       "  </tbody>\n",
       "</table>\n",
       "<p>26482 rows × 25 columns</p>\n",
       "</div>"
      ],
      "text/plain": [
       "       DIED  L_THREAT  OTHER_MEDS  CUR_ILL  HISTORY  PRIOR_VAX  ALLERGIES  \\\n",
       "0       0.0       0.0         0.0      0.0      0.0        0.0        1.0   \n",
       "1       0.0       0.0         1.0      0.0      1.0        0.0        1.0   \n",
       "2       0.0       0.0         1.0      0.0      0.0        0.0        1.0   \n",
       "3       0.0       0.0         1.0      0.0      0.0        0.0        1.0   \n",
       "4       0.0       0.0         1.0      1.0      1.0        0.0        1.0   \n",
       "...     ...       ...         ...      ...      ...        ...        ...   \n",
       "26477   0.0       0.0         1.0      0.0      1.0        1.0        1.0   \n",
       "26478   0.0       0.0         1.0      1.0      1.0        0.0        1.0   \n",
       "26479   0.0       0.0         1.0      1.0      1.0        0.0        1.0   \n",
       "26480   0.0       0.0         0.0      0.0      1.0        0.0        0.0   \n",
       "26481   0.0       0.0         1.0      0.0      1.0        0.0        0.0   \n",
       "\n",
       "         F    M  JANSSEN  ...  VAX_SITE_RA  18-25  26-35  36-45  46-55  56-65  \\\n",
       "0      1.0  0.0      0.0  ...          0.0      0      1      0      0      0   \n",
       "1      1.0  0.0      0.0  ...          1.0      0      0      0      0      1   \n",
       "2      1.0  0.0      0.0  ...          1.0      0      0      0      0      1   \n",
       "3      1.0  0.0      0.0  ...          1.0      0      0      0      0      1   \n",
       "4      1.0  0.0      0.0  ...          1.0      0      0      1      0      0   \n",
       "...    ...  ...      ...  ...          ...    ...    ...    ...    ...    ...   \n",
       "26477  0.0  1.0      0.0  ...          0.0      0      0      0      0      0   \n",
       "26478  1.0  0.0      0.0  ...          1.0      0      0      0      0      0   \n",
       "26479  0.0  1.0      0.0  ...          1.0      0      0      0      0      0   \n",
       "26480  1.0  0.0      0.0  ...          1.0      0      0      0      0      0   \n",
       "26481  0.0  1.0      0.0  ...          0.0      0      1      0      0      0   \n",
       "\n",
       "       66-75  76-85  86-95  96 +  \n",
       "0          0      0      0     0  \n",
       "1          0      0      0     0  \n",
       "2          0      0      0     0  \n",
       "3          0      0      0     0  \n",
       "4          0      0      0     0  \n",
       "...      ...    ...    ...   ...  \n",
       "26477      1      0      0     0  \n",
       "26478      0      1      0     0  \n",
       "26479      0      1      0     0  \n",
       "26480      0      1      0     0  \n",
       "26481      0      0      0     0  \n",
       "\n",
       "[26482 rows x 25 columns]"
      ]
     },
     "execution_count": 4,
     "metadata": {},
     "output_type": "execute_result"
    }
   ],
   "source": [
    "# create train data\n",
    "X = data_df.drop(['VAERS_ID', 'SYMPTOM','ASSIGNED_GROUP','SEVERITY_LEVEL','HOSPITAL','AGE_YRS', 'AGE_GROUP'], axis=1)\n",
    "X"
   ]
  },
  {
   "cell_type": "code",
   "execution_count": 5,
   "id": "c1d9c55a",
   "metadata": {},
   "outputs": [
    {
     "data": {
      "text/plain": [
       "array([0, 0, 0, ..., 2, 1, 1])"
      ]
     },
     "execution_count": 5,
     "metadata": {},
     "output_type": "execute_result"
    }
   ],
   "source": [
    "# convert the serverity labels to numbers and create the target data\n",
    "y = LabelEncoder().fit_transform(data_df['SEVERITY_LEVEL'])\n",
    "y"
   ]
  },
  {
   "cell_type": "code",
   "execution_count": 6,
   "id": "0efaccac",
   "metadata": {},
   "outputs": [],
   "source": [
    "# split into train and test\n",
    "X_train, X_test, y_train, y_test = train_test_split(X, y, random_state=7)"
   ]
  },
  {
   "cell_type": "code",
   "execution_count": 7,
   "id": "b8b40ac6",
   "metadata": {},
   "outputs": [],
   "source": [
    "# Scaling the train data with StandardScaler()\n",
    "#scaler = StandardScaler().fit(X_train)\n",
    "#X_train_scaled = scaler.transform(X_train)\n",
    "#X_test_scaled = scaler.transform(X_test)"
   ]
  },
  {
   "cell_type": "markdown",
   "id": "4fbe5244",
   "metadata": {},
   "source": [
    "## Testing KNN to Determine Best k value"
   ]
  },
  {
   "cell_type": "code",
   "execution_count": 8,
   "id": "001fef52",
   "metadata": {},
   "outputs": [
    {
     "name": "stdout",
     "output_type": "stream",
     "text": [
      "k: 1, Train/Test Score: 0.877/0.837\n",
      "k: 3, Train/Test Score: 0.899/0.884\n",
      "k: 5, Train/Test Score: 0.902/0.895\n",
      "k: 7, Train/Test Score: 0.902/0.897\n",
      "k: 9, Train/Test Score: 0.901/0.898\n",
      "k: 11, Train/Test Score: 0.901/0.899\n",
      "k: 13, Train/Test Score: 0.900/0.900\n",
      "k: 15, Train/Test Score: 0.900/0.899\n",
      "k: 17, Train/Test Score: 0.900/0.900\n",
      "k: 19, Train/Test Score: 0.900/0.900\n"
     ]
    },
    {
     "data": {
      "image/png": "[encoded data removed]",
      "text/plain": [
       "<Figure size 432x288 with 1 Axes>"
      ]
     },
     "metadata": {
      "needs_background": "light"
     },
     "output_type": "display_data"
    }
   ],
   "source": [
    "# Loop through different k values to find which has the highest accuracy.\n",
    "# Note: We use only odd numbers because we don't want any ties.\n",
    "train_scores = []\n",
    "test_scores = []\n",
    "for k in range(1, 20, 2):\n",
    "    knn = KNeighborsClassifier(n_neighbors=k)\n",
    "    knn.fit(X_train, y_train)\n",
    "    train_score = knn.score(X_train, y_train)\n",
    "    test_score = knn.score(X_test, y_test)\n",
    "    train_scores.append(train_score)\n",
    "    test_scores.append(test_score)\n",
    "    print(f\"k: {k}, Train/Test Score: {train_score:.3f}/{test_score:.3f}\")\n",
    "    \n",
    "    \n",
    "plt.plot(range(1, 20, 2), train_scores, marker='o')\n",
    "plt.plot(range(1, 20, 2), test_scores, marker=\"x\")\n",
    "plt.xlabel(\"k neighbors\")\n",
    "plt.ylabel(\"Testing accuracy score\")\n",
    "plt.show()"
   ]
  },
  {
   "cell_type": "markdown",
   "id": "81dfb931",
   "metadata": {},
   "source": [
    "Based on the scores above, we will move forward with 5 neighbors for our model. This was run on 3 random states (33, 42, 7) and all began to stabilize at k=5. "
   ]
  },
  {
   "cell_type": "markdown",
   "id": "108a4a01",
   "metadata": {},
   "source": [
    "## Create KNN Model "
   ]
  },
  {
   "cell_type": "code",
   "execution_count": 10,
   "id": "536ea812",
   "metadata": {},
   "outputs": [
    {
     "name": "stdout",
     "output_type": "stream",
     "text": [
      "k=5 Test Acc: 0.837\n"
     ]
    }
   ],
   "source": [
    "# Note that k: 5 provides the best accuracy where the classifier starts to stablize\n",
    "knn = KNeighborsClassifier(n_neighbors=1)\n",
    "knn.fit(X_train, y_train)\n",
    "print('k=5 Test Acc: %.3f' % knn.score(X_test, y_test))"
   ]
  },
  {
   "cell_type": "code",
   "execution_count": null,
   "id": "f8d61d2b",
   "metadata": {},
   "outputs": [],
   "source": [
    "X.columns"
   ]
  },
  {
   "cell_type": "markdown",
   "id": "484afc1c",
   "metadata": {},
   "source": [
    "### Test Prediction 1"
   ]
  },
  {
   "cell_type": "code",
   "execution_count": 11,
   "id": "056a1bd3",
   "metadata": {},
   "outputs": [
    {
     "name": "stdout",
     "output_type": "stream",
     "text": [
      "['MILD']\n"
     ]
    }
   ],
   "source": [
    "# Sample Prediction 1\n",
    "sample_user1 = [[0,0,0,1,1,1,0,0,0,1,0,1,1,0,0,0,0,0,0,0,0,1,1,1,1]]\n",
    "predicted_symptoms = knn.predict(sample_user1)\n",
    "print(severity[predicted_symptoms])"
   ]
  },
  {
   "cell_type": "code",
   "execution_count": 14,
   "id": "14061a99",
   "metadata": {},
   "outputs": [
    {
     "data": {
      "text/plain": [
       "array([0])"
      ]
     },
     "execution_count": 14,
     "metadata": {},
     "output_type": "execute_result"
    }
   ],
   "source": [
    "# Sample Prediction 2 (return severe)\n",
    "sample_user3 = [[1,1,20,20,1,1,1,1,1,1,20,1,1,0,1,1,1,20,1,1,20,0,20,20,20]]\n",
    "knn.predict(sample_user3)"
   ]
  },
  {
   "cell_type": "code",
   "execution_count": 15,
   "id": "5529112d",
   "metadata": {},
   "outputs": [
    {
     "name": "stdout",
     "output_type": "stream",
     "text": [
      "[13702, 23393, 8699, 18950, 18121, 25494, 23939, 331, 19482, 19365, 3430, 4456, 12547, 3800, 1812, 22351, 20555, 13490, 19362, 16094, 3192, 11461, 3293, 6189, 4382, 23873, 22511, 22361, 20960, 19861, 17517, 18353, 18755, 18313, 14856, 12567, 11779, 10731, 11656, 6959, 9349, 6553, 1551, 595, 1533, 2386, 5829, 23841, 20500, 20970, 26302, 10308, 24432, 21939, 22127, 22689, 10306, 20343, 13563, 15638, 19719, 13559, 23572, 19671, 18662, 18589, 25846, 24023, 24089, 18166, 5202, 26061, 8676, 129, 10386, 23865, 11628, 11943, 7189, 7095, 9320, 7978, 23436, 1560, 1385, 1651, 2717, 21779, 26185, 19151, 24962, 26082, 21612, 25784, 3152, 11008, 25986, 23872, 24473, 21187, 24071, 23956, 18956, 20757, 21870, 15727, 16281, 26417, 2477, 25083, 22834, 26087, 26213, 15370, 21105, 24629, 25894, 23917, 22386, 4105, 10715, 24889, 11724, 25914, 17599, 26106, 18955, 11286, 24888, 18945, 24155, 6560, 25353, 26094, 25352, 2519, 11263, 25359, 24223, 24449, 25761, 23924, 26143, 10423, 26135, 16724, 24288, 25942, 24294, 338, 26350, 12374, 9009, 3232, 26228, 21135, 26011, 11511, 23226, 23483, 26024, 26023, 8010, 7742, 9770, 21515, 24386, 21513, 24094, 23947, 26280, 26050, 3629, 4531, 25342, 25531, 23449, 23031, 23545, 23954, 25562, 25502, 23943, 23421, 23582, 25384, 25300, 25979, 25582, 23430, 25526, 24529, 24523, 25843, 25258, 26219, 25332, 25533, 24186, 25320]\n"
     ]
    }
   ],
   "source": [
    "# 5 people closest to user 1\n",
    "tree = KDTree(X)\n",
    "dist, ind = tree.query(sample_user1, k=200)\n",
    "\n",
    "#convery ndarry to list \n",
    "like_users = ind[0].tolist()\n",
    "print(like_users)  # indices of 5 closest neighbors"
   ]
  },
  {
   "cell_type": "code",
   "execution_count": 51,
   "id": "9e5966d7",
   "metadata": {},
   "outputs": [
    {
     "data": {
      "text/plain": [
       "Injection Site Irritation/Discomfort    23\n",
       "Respiratory distress                    10\n",
       "Fever                                    8\n",
       "Chills                                   7\n",
       "Cardiac arrest                           7\n",
       "Name: ASSIGNED_GROUP, dtype: int64"
      ]
     },
     "execution_count": 51,
     "metadata": {},
     "output_type": "execute_result"
    }
   ],
   "source": [
    "# save nearest 100 neighbors symptoms as list for wordcloud\n",
    "predicted_symptoms = data_df['ASSIGNED_GROUP'].iloc[like_users]\n",
    "predicted_symptoms = predicted_symptoms.value_counts()\n",
    "predicted_symptoms.head()"
   ]
  },
  {
   "cell_type": "code",
   "execution_count": 73,
   "id": "b3e26ad5",
   "metadata": {},
   "outputs": [],
   "source": [
    "dirty_dict = predicted_symptoms.to_dict()"
   ]
  },
  {
   "cell_type": "code",
   "execution_count": 78,
   "id": "276f6b59",
   "metadata": {},
   "outputs": [
    {
     "data": {
      "text/plain": [
       "[{'x': 'Injection Site Irritation/Discomfort', 'value': 23},\n",
       " {'x': 'Respiratory distress', 'value': 10},\n",
       " {'x': 'Fever', 'value': 8},\n",
       " {'x': 'Chills', 'value': 7},\n",
       " {'x': 'Cardiac arrest', 'value': 7},\n",
       " {'x': 'Joint Pain/Discomfort', 'value': 6},\n",
       " {'x': 'Nausea/Vomiting', 'value': 6},\n",
       " {'x': 'Loss of Consciousness', 'value': 6},\n",
       " {'x': 'Delirium', 'value': 5},\n",
       " {'x': 'Vertigo', 'value': 5},\n",
       " {'x': 'Weakness', 'value': 5},\n",
       " {'x': 'Fatigue', 'value': 5},\n",
       " {'x': 'General Pain/Discomfort', 'value': 5},\n",
       " {'x': 'Migraine/Headache', 'value': 5},\n",
       " {'x': 'Chest Discomfort', 'value': 5},\n",
       " {'x': 'Pulmonary', 'value': 4},\n",
       " {'x': 'Abdominal Pain/Discomfort', 'value': 4},\n",
       " {'x': 'Heart Attack', 'value': 4},\n",
       " {'x': 'Abnormal Heart Rhythm', 'value': 4},\n",
       " {'x': 'Current Medical Condition Aggravated', 'value': 4},\n",
       " {'x': 'Blood Pressure Change', 'value': 3},\n",
       " {'x': 'Resuscitation - reviving', 'value': 3},\n",
       " {'x': 'Skin Discomfort/Pain', 'value': 3},\n",
       " {'x': 'Anaphylactic reaction', 'value': 3},\n",
       " {'x': 'Alterred Speech', 'value': 3},\n",
       " {'x': 'Kidney function', 'value': 3},\n",
       " {'x': 'Alterred Vision', 'value': 3},\n",
       " {'x': 'Inflammation/Swelling', 'value': 3},\n",
       " {'x': 'Blood Glucose Increased', 'value': 2},\n",
       " {'x': 'Appetite Decreased', 'value': 2},\n",
       " {'x': 'Stroke', 'value': 2},\n",
       " {'x': 'Hoarse Voice', 'value': 2},\n",
       " {'x': 'Arterial', 'value': 2},\n",
       " {'x': 'Brain Function', 'value': 2},\n",
       " {'x': 'Skin Rash', 'value': 2},\n",
       " {'x': 'Facial Irritation/Discomfort', 'value': 2},\n",
       " {'x': 'Sensation of foreign body', 'value': 2},\n",
       " {'x': 'Neck pain', 'value': 2},\n",
       " {'x': 'Back pain', 'value': 2},\n",
       " {'x': 'Pale skin', 'value': 1},\n",
       " {'x': 'Feeling Abnormal', 'value': 1},\n",
       " {'x': 'Wheezing', 'value': 1},\n",
       " {'x': 'Diarrhea', 'value': 1},\n",
       " {'x': 'Memory impairment', 'value': 1},\n",
       " {'x': 'Throat Irritation/Discomfort', 'value': 1},\n",
       " {'x': 'Urinary Discomfort', 'value': 1},\n",
       " {'x': 'High blood pressure', 'value': 1},\n",
       " {'x': 'Low Blood Pressure', 'value': 1},\n",
       " {'x': 'Taste abnormal', 'value': 1},\n",
       " {'x': 'Blood in Feces', 'value': 1},\n",
       " {'x': 'Insomnia', 'value': 1},\n",
       " {'x': 'Anxiety', 'value': 1},\n",
       " {'x': 'Difficulty walking', 'value': 1},\n",
       " {'x': 'Sensitivity', 'value': 1},\n",
       " {'x': 'Hives', 'value': 1},\n",
       " {'x': 'Sepsis', 'value': 1},\n",
       " {'x': 'Paralysis', 'value': 1},\n",
       " {'x': 'Mouth pain/discomfort', 'value': 1},\n",
       " {'x': 'Cough', 'value': 1},\n",
       " {'x': 'Coordination dysfunction', 'value': 1},\n",
       " {'x': 'Nosebleed', 'value': 1},\n",
       " {'x': 'Abcess', 'value': 1},\n",
       " {'x': 'Seizure', 'value': 1},\n",
       " {'x': 'Abnormal Excessive Sweating', 'value': 1},\n",
       " {'x': 'Mouth sensitivity', 'value': 1}]"
      ]
     },
     "execution_count": 78,
     "metadata": {},
     "output_type": "execute_result"
    }
   ],
   "source": [
    "words = []\n",
    "for key in dirty_dict:\n",
    "    x = {'x': key, 'value': dirty_dict[key]}\n",
    "    words.append(x)\n",
    "    \n",
    "words"
   ]
  },
  {
   "cell_type": "code",
   "execution_count": 16,
   "id": "f0a942e1",
   "metadata": {},
   "outputs": [
    {
     "data": {
      "text/plain": [
       "['Sensitivity',\n",
       " 'Vertigo',\n",
       " 'Migraine/Headache',\n",
       " 'Current Medical Condition Aggravated',\n",
       " 'Nausea/Vomiting']"
      ]
     },
     "execution_count": 16,
     "metadata": {},
     "output_type": "execute_result"
    }
   ],
   "source": [
    "# save nearest 100 neighbors symptoms as list for wordcloud\n",
    "predicted_symptoms = data_df['ASSIGNED_GROUP'].iloc[like_users].tolist()\n",
    "predicted_symptoms[:5]"
   ]
  },
  {
   "cell_type": "code",
   "execution_count": null,
   "id": "763f2752",
   "metadata": {},
   "outputs": [],
   "source": [
    "# save nearest 100 neighbors severity levels as list for % tables\n",
    "predicted_severity = data_df['SEVERITY_LEVEL'].iloc[like_users].tolist()\n",
    "predicted_severity[:5]"
   ]
  },
  {
   "cell_type": "code",
   "execution_count": null,
   "id": "6f9a9633",
   "metadata": {},
   "outputs": [],
   "source": [
    "# count the number of occurrences from nearest neighboors\n",
    "def count_levels(lst):\n",
    "    mld_ct = 0\n",
    "    mod_ct = 0\n",
    "    sev_ct = 0 \n",
    "    for person in lst:\n",
    "        if (person == 'MILD'):\n",
    "            mld_ct = mld_ct + 1\n",
    "        if (person == 'MODERATE'):\n",
    "            mod_ct = mod_ct + 1\n",
    "        if (person == 'SEVERE'):\n",
    "            sev_ct = sev_ct + 1    \n",
    "            \n",
    "    return mld_ct, mod_ct, sev_ct"
   ]
  },
  {
   "cell_type": "code",
   "execution_count": null,
   "id": "4591c078",
   "metadata": {},
   "outputs": [],
   "source": [
    "count_levels(predicted_severity)"
   ]
  },
  {
   "cell_type": "code",
   "execution_count": null,
   "id": "64a74251",
   "metadata": {},
   "outputs": [],
   "source": [
    "cloud_maker(predicted_symptoms)"
   ]
  },
  {
   "cell_type": "code",
   "execution_count": null,
   "id": "ceb3d841",
   "metadata": {},
   "outputs": [],
   "source": [
    "# save nearest 50 neighbors symptoms as list for wordcloud\n",
    "predicted_symptoms = data_df['ASSIGNED_GROUP'].iloc[like_users].tolist()\n",
    "predicted_symptoms[:5]"
   ]
  },
  {
   "cell_type": "code",
   "execution_count": null,
   "id": "eecf93ba",
   "metadata": {},
   "outputs": [],
   "source": [
    "def cloud_maker(words):\n",
    "    #convert list to string and generate\n",
    "    unique_string=(\" \").join(predicted_symptoms)\n",
    "\n",
    "    #create circle mask\n",
    "    x, y = np.ogrid[:300, :300]\n",
    "    mask = (x - 150) ** 2 + (y - 150) ** 2 > 130 ** 2\n",
    "    mask = 255 * mask.astype(int)\n",
    "    \n",
    "    wordcloud = WordCloud(background_color=\"white\", repeat=True,\n",
    "                width = 1000, height = 500, mask=mask).generate(unique_string)\n",
    "    \n",
    "    plt.figure(figsize=(15,8))\n",
    "    plt.imshow(wordcloud)\n",
    "    plt.axis(\"off\")\n",
    "    plt.savefig(\"curr_cloud.png\", bbox_inches='tight')\n",
    "    plt.show()\n",
    "    plt.close()"
   ]
  },
  {
   "cell_type": "code",
   "execution_count": null,
   "id": "d0a224c6",
   "metadata": {},
   "outputs": [],
   "source": [
    "cloud_maker(predicted_symptoms)"
   ]
  },
  {
   "cell_type": "code",
   "execution_count": null,
   "id": "eaa4c8cf",
   "metadata": {},
   "outputs": [],
   "source": [
    "severity"
   ]
  },
  {
   "cell_type": "code",
   "execution_count": null,
   "id": "9494efc0",
   "metadata": {},
   "outputs": [],
   "source": [
    "#convert list to string and generate\n",
    "unique_string=(\" \").join(predicted_symptoms)\n",
    "\n",
    "#create circle mask\n",
    "x, y = np.ogrid[:300, :300]\n",
    "mask = (x - 150) ** 2 + (y - 150) ** 2 > 130 ** 2\n",
    "mask = 255 * mask.astype(int)\n",
    "\n",
    "\n",
    "#test mask\n",
    "from PIL import Image\n",
    "from os import path\n",
    "# get data directory (using getcwd() is needed to support running example in generated IPython notebook)\n",
    "d = path.dirname(__file__) if \"__file__\" in locals() else os.getcwd()\n",
    "new_mask = np.array(Image.open(path.join(d, 'circle_mask.png')))\n",
    "\n",
    "wordcloud = WordCloud(background_color=\"white\", repeat=True,\n",
    "                      width = 1000, height = 500, mask=mask).generate(unique_string)\n",
    "\n",
    "plt.figure(figsize=(15,8))\n",
    "plt.imshow(wordcloud)\n",
    "plt.axis(\"off\")\n",
    "plt.imshow(wordcloud.recolor(color_func=image_colors), interpolation=\"bilinear\")\n",
    "#plt.savefig(\"your_file_name\"+\".png\", bbox_inches='tight')\n",
    "plt.show()\n",
    "plt.close()"
   ]
  },
  {
   "cell_type": "code",
   "execution_count": null,
   "id": "fc669146",
   "metadata": {},
   "outputs": [],
   "source": [
    "# Sample Prediction 2\n",
    "sample_user2 = [[0,0,0,1,1,1,0,1,0,0,0,0,0,0,0,0,0,0,0,0,0,1,0]]\n",
    "predicted_symptoms = knn.predict(sample_user2)\n",
    "print(severity[predicted_symptoms])"
   ]
  },
  {
   "cell_type": "code",
   "execution_count": null,
   "id": "1f1ef029",
   "metadata": {},
   "outputs": [],
   "source": [
    "predicted_severity = data_df['SEVERITY_LEVEL'].iloc[like_users].tolist()\n",
    "predicted_severity[:5]"
   ]
  },
  {
   "cell_type": "code",
   "execution_count": null,
   "id": "c96345cd",
   "metadata": {},
   "outputs": [],
   "source": [
    "count_levels(predicted_severity)"
   ]
  },
  {
   "cell_type": "code",
   "execution_count": null,
   "id": "3b553ed5",
   "metadata": {},
   "outputs": [],
   "source": [
    "tree = KDTree(X)\n",
    "ind = tree.query([[1.25, 1.35]], k=5)\n",
    "print(ind)  # indices of 5 closest neighbors\n",
    "\n",
    "\n",
    "print('People like you reported the following symptoms:')"
   ]
  },
  {
   "cell_type": "code",
   "execution_count": null,
   "id": "63507489",
   "metadata": {},
   "outputs": [],
   "source": []
  }
 ],
 "metadata": {
  "kernelspec": {
   "display_name": "PythonData",
   "language": "python",
   "name": "pythondata"
  },
  "language_info": {
   "codemirror_mode": {
    "name": "ipython",
    "version": 3
   },
   "file_extension": ".py",
   "mimetype": "text/x-python",
   "name": "python",
   "nbconvert_exporter": "python",
   "pygments_lexer": "ipython3",
   "version": "3.8.8"
  }
 },
 "nbformat": 4,
 "nbformat_minor": 5
}
