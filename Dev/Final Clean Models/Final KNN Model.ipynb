{
 "cells": [
  {
   "cell_type": "markdown",
   "id": "1545cee1",
   "metadata": {},
   "source": [
    "# Import Dependencies"
   ]
  },
  {
   "cell_type": "code",
   "execution_count": 47,
   "id": "ac0d57a4",
   "metadata": {},
   "outputs": [],
   "source": [
    "# Dependencies\n",
    "import pandas as pd\n",
    "from sklearn.preprocessing import LabelEncoder\n",
    "from sklearn.model_selection import train_test_split\n",
    "from sklearn.neighbors import KNeighborsClassifier, KDTree\n",
    "import numpy as np\n",
    "import matplotlib.pyplot as plt\n",
    "from wordcloud import WordCloud\n",
    "import pickle"
   ]
  },
  {
   "cell_type": "markdown",
   "id": "13e13f88",
   "metadata": {},
   "source": [
    "# Read Data File"
   ]
  },
  {
   "cell_type": "code",
   "execution_count": 2,
   "id": "f6b3a5c5",
   "metadata": {},
   "outputs": [
    {
     "data": {
      "text/html": [
       "<div>\n",
       "<style scoped>\n",
       "    .dataframe tbody tr th:only-of-type {\n",
       "        vertical-align: middle;\n",
       "    }\n",
       "\n",
       "    .dataframe tbody tr th {\n",
       "        vertical-align: top;\n",
       "    }\n",
       "\n",
       "    .dataframe thead th {\n",
       "        text-align: right;\n",
       "    }\n",
       "</style>\n",
       "<table border=\"1\" class=\"dataframe\">\n",
       "  <thead>\n",
       "    <tr style=\"text-align: right;\">\n",
       "      <th></th>\n",
       "      <th>VAERS_ID</th>\n",
       "      <th>SYMPTOM</th>\n",
       "      <th>ASSIGNED_GROUP</th>\n",
       "      <th>SEVERITY_LEVEL</th>\n",
       "      <th>DIED</th>\n",
       "      <th>L_THREAT</th>\n",
       "      <th>HOSPITAL</th>\n",
       "      <th>AGE_YRS</th>\n",
       "      <th>AGE_GROUP</th>\n",
       "      <th>OTHER_MEDS</th>\n",
       "      <th>...</th>\n",
       "      <th>VAX_SITE_RA</th>\n",
       "      <th>18-25</th>\n",
       "      <th>26-35</th>\n",
       "      <th>36-45</th>\n",
       "      <th>46-55</th>\n",
       "      <th>56-65</th>\n",
       "      <th>66-75</th>\n",
       "      <th>76-85</th>\n",
       "      <th>86-95</th>\n",
       "      <th>96 +</th>\n",
       "    </tr>\n",
       "  </thead>\n",
       "  <tbody>\n",
       "    <tr>\n",
       "      <th>0</th>\n",
       "      <td>916600</td>\n",
       "      <td>Dysphagia</td>\n",
       "      <td>Difficulty swallowing</td>\n",
       "      <td>MILD</td>\n",
       "      <td>0.0</td>\n",
       "      <td>0.0</td>\n",
       "      <td>0.0</td>\n",
       "      <td>33.0</td>\n",
       "      <td>26-35</td>\n",
       "      <td>0.0</td>\n",
       "      <td>...</td>\n",
       "      <td>0.0</td>\n",
       "      <td>0</td>\n",
       "      <td>1</td>\n",
       "      <td>0</td>\n",
       "      <td>0</td>\n",
       "      <td>0</td>\n",
       "      <td>0</td>\n",
       "      <td>0</td>\n",
       "      <td>0</td>\n",
       "      <td>0</td>\n",
       "    </tr>\n",
       "    <tr>\n",
       "      <th>1</th>\n",
       "      <td>917168</td>\n",
       "      <td>Dysphagia</td>\n",
       "      <td>Difficulty swallowing</td>\n",
       "      <td>MILD</td>\n",
       "      <td>0.0</td>\n",
       "      <td>0.0</td>\n",
       "      <td>0.0</td>\n",
       "      <td>64.0</td>\n",
       "      <td>56-65</td>\n",
       "      <td>1.0</td>\n",
       "      <td>...</td>\n",
       "      <td>1.0</td>\n",
       "      <td>0</td>\n",
       "      <td>0</td>\n",
       "      <td>0</td>\n",
       "      <td>0</td>\n",
       "      <td>1</td>\n",
       "      <td>0</td>\n",
       "      <td>0</td>\n",
       "      <td>0</td>\n",
       "      <td>0</td>\n",
       "    </tr>\n",
       "    <tr>\n",
       "      <th>2</th>\n",
       "      <td>918386</td>\n",
       "      <td>Dysphagia</td>\n",
       "      <td>Difficulty swallowing</td>\n",
       "      <td>MILD</td>\n",
       "      <td>0.0</td>\n",
       "      <td>0.0</td>\n",
       "      <td>0.0</td>\n",
       "      <td>62.0</td>\n",
       "      <td>56-65</td>\n",
       "      <td>1.0</td>\n",
       "      <td>...</td>\n",
       "      <td>1.0</td>\n",
       "      <td>0</td>\n",
       "      <td>0</td>\n",
       "      <td>0</td>\n",
       "      <td>0</td>\n",
       "      <td>1</td>\n",
       "      <td>0</td>\n",
       "      <td>0</td>\n",
       "      <td>0</td>\n",
       "      <td>0</td>\n",
       "    </tr>\n",
       "    <tr>\n",
       "      <th>3</th>\n",
       "      <td>918393</td>\n",
       "      <td>Dysphagia</td>\n",
       "      <td>Difficulty swallowing</td>\n",
       "      <td>MILD</td>\n",
       "      <td>0.0</td>\n",
       "      <td>0.0</td>\n",
       "      <td>0.0</td>\n",
       "      <td>62.0</td>\n",
       "      <td>56-65</td>\n",
       "      <td>1.0</td>\n",
       "      <td>...</td>\n",
       "      <td>1.0</td>\n",
       "      <td>0</td>\n",
       "      <td>0</td>\n",
       "      <td>0</td>\n",
       "      <td>0</td>\n",
       "      <td>1</td>\n",
       "      <td>0</td>\n",
       "      <td>0</td>\n",
       "      <td>0</td>\n",
       "      <td>0</td>\n",
       "    </tr>\n",
       "    <tr>\n",
       "      <th>4</th>\n",
       "      <td>918479</td>\n",
       "      <td>Dysphagia</td>\n",
       "      <td>Difficulty swallowing</td>\n",
       "      <td>MILD</td>\n",
       "      <td>0.0</td>\n",
       "      <td>0.0</td>\n",
       "      <td>0.0</td>\n",
       "      <td>37.0</td>\n",
       "      <td>36-45</td>\n",
       "      <td>1.0</td>\n",
       "      <td>...</td>\n",
       "      <td>1.0</td>\n",
       "      <td>0</td>\n",
       "      <td>0</td>\n",
       "      <td>1</td>\n",
       "      <td>0</td>\n",
       "      <td>0</td>\n",
       "      <td>0</td>\n",
       "      <td>0</td>\n",
       "      <td>0</td>\n",
       "      <td>0</td>\n",
       "    </tr>\n",
       "  </tbody>\n",
       "</table>\n",
       "<p>5 rows × 32 columns</p>\n",
       "</div>"
      ],
      "text/plain": [
       "   VAERS_ID    SYMPTOM         ASSIGNED_GROUP SEVERITY_LEVEL  DIED  L_THREAT  \\\n",
       "0    916600  Dysphagia  Difficulty swallowing           MILD   0.0       0.0   \n",
       "1    917168  Dysphagia  Difficulty swallowing           MILD   0.0       0.0   \n",
       "2    918386  Dysphagia  Difficulty swallowing           MILD   0.0       0.0   \n",
       "3    918393  Dysphagia  Difficulty swallowing           MILD   0.0       0.0   \n",
       "4    918479  Dysphagia  Difficulty swallowing           MILD   0.0       0.0   \n",
       "\n",
       "   HOSPITAL  AGE_YRS AGE_GROUP  OTHER_MEDS  ...  VAX_SITE_RA  18-25  26-35  \\\n",
       "0       0.0     33.0     26-35         0.0  ...          0.0      0      1   \n",
       "1       0.0     64.0     56-65         1.0  ...          1.0      0      0   \n",
       "2       0.0     62.0     56-65         1.0  ...          1.0      0      0   \n",
       "3       0.0     62.0     56-65         1.0  ...          1.0      0      0   \n",
       "4       0.0     37.0     36-45         1.0  ...          1.0      0      0   \n",
       "\n",
       "   36-45  46-55  56-65  66-75  76-85  86-95  96 +  \n",
       "0      0      0      0      0      0      0     0  \n",
       "1      0      0      1      0      0      0     0  \n",
       "2      0      0      1      0      0      0     0  \n",
       "3      0      0      1      0      0      0     0  \n",
       "4      1      0      0      0      0      0     0  \n",
       "\n",
       "[5 rows x 32 columns]"
      ]
     },
     "execution_count": 2,
     "metadata": {},
     "output_type": "execute_result"
    }
   ],
   "source": [
    "# Data File\n",
    "data = \"../Resources/FINAL_CLEAN_FILE.csv\"\n",
    "\n",
    "# read to dataframe\n",
    "data_df = pd.read_csv(data)\n",
    "data_df.head()"
   ]
  },
  {
   "cell_type": "code",
   "execution_count": 3,
   "id": "1f2d1456",
   "metadata": {},
   "outputs": [
    {
     "data": {
      "text/plain": [
       "array(['MILD', 'MODERATE', 'SEVERE'], dtype=object)"
      ]
     },
     "execution_count": 3,
     "metadata": {},
     "output_type": "execute_result"
    }
   ],
   "source": [
    "severity = data_df['SEVERITY_LEVEL'].unique()\n",
    "severity"
   ]
  },
  {
   "cell_type": "code",
   "execution_count": 4,
   "id": "f12e4e31",
   "metadata": {},
   "outputs": [
    {
     "data": {
      "text/html": [
       "<div>\n",
       "<style scoped>\n",
       "    .dataframe tbody tr th:only-of-type {\n",
       "        vertical-align: middle;\n",
       "    }\n",
       "\n",
       "    .dataframe tbody tr th {\n",
       "        vertical-align: top;\n",
       "    }\n",
       "\n",
       "    .dataframe thead th {\n",
       "        text-align: right;\n",
       "    }\n",
       "</style>\n",
       "<table border=\"1\" class=\"dataframe\">\n",
       "  <thead>\n",
       "    <tr style=\"text-align: right;\">\n",
       "      <th></th>\n",
       "      <th>VAERS_ID</th>\n",
       "      <th>SYMPTOM</th>\n",
       "      <th>ASSIGNED_GROUP</th>\n",
       "      <th>DIED</th>\n",
       "      <th>L_THREAT</th>\n",
       "      <th>HOSPITAL</th>\n",
       "      <th>AGE_YRS</th>\n",
       "      <th>AGE_GROUP</th>\n",
       "      <th>OTHER_MEDS</th>\n",
       "      <th>CUR_ILL</th>\n",
       "      <th>...</th>\n",
       "      <th>VAX_SITE_RA</th>\n",
       "      <th>18-25</th>\n",
       "      <th>26-35</th>\n",
       "      <th>36-45</th>\n",
       "      <th>46-55</th>\n",
       "      <th>56-65</th>\n",
       "      <th>66-75</th>\n",
       "      <th>76-85</th>\n",
       "      <th>86-95</th>\n",
       "      <th>96 +</th>\n",
       "    </tr>\n",
       "    <tr>\n",
       "      <th>SEVERITY_LEVEL</th>\n",
       "      <th></th>\n",
       "      <th></th>\n",
       "      <th></th>\n",
       "      <th></th>\n",
       "      <th></th>\n",
       "      <th></th>\n",
       "      <th></th>\n",
       "      <th></th>\n",
       "      <th></th>\n",
       "      <th></th>\n",
       "      <th></th>\n",
       "      <th></th>\n",
       "      <th></th>\n",
       "      <th></th>\n",
       "      <th></th>\n",
       "      <th></th>\n",
       "      <th></th>\n",
       "      <th></th>\n",
       "      <th></th>\n",
       "      <th></th>\n",
       "      <th></th>\n",
       "    </tr>\n",
       "  </thead>\n",
       "  <tbody>\n",
       "    <tr>\n",
       "      <th>MILD</th>\n",
       "      <td>23836</td>\n",
       "      <td>23836</td>\n",
       "      <td>23836</td>\n",
       "      <td>23836</td>\n",
       "      <td>23836</td>\n",
       "      <td>23836</td>\n",
       "      <td>23836</td>\n",
       "      <td>23836</td>\n",
       "      <td>23836</td>\n",
       "      <td>23836</td>\n",
       "      <td>...</td>\n",
       "      <td>23836</td>\n",
       "      <td>23836</td>\n",
       "      <td>23836</td>\n",
       "      <td>23836</td>\n",
       "      <td>23836</td>\n",
       "      <td>23836</td>\n",
       "      <td>23836</td>\n",
       "      <td>23836</td>\n",
       "      <td>23836</td>\n",
       "      <td>23836</td>\n",
       "    </tr>\n",
       "    <tr>\n",
       "      <th>MODERATE</th>\n",
       "      <td>1984</td>\n",
       "      <td>1984</td>\n",
       "      <td>1984</td>\n",
       "      <td>1984</td>\n",
       "      <td>1984</td>\n",
       "      <td>1984</td>\n",
       "      <td>1984</td>\n",
       "      <td>1984</td>\n",
       "      <td>1984</td>\n",
       "      <td>1984</td>\n",
       "      <td>...</td>\n",
       "      <td>1984</td>\n",
       "      <td>1984</td>\n",
       "      <td>1984</td>\n",
       "      <td>1984</td>\n",
       "      <td>1984</td>\n",
       "      <td>1984</td>\n",
       "      <td>1984</td>\n",
       "      <td>1984</td>\n",
       "      <td>1984</td>\n",
       "      <td>1984</td>\n",
       "    </tr>\n",
       "    <tr>\n",
       "      <th>SEVERE</th>\n",
       "      <td>662</td>\n",
       "      <td>662</td>\n",
       "      <td>662</td>\n",
       "      <td>662</td>\n",
       "      <td>662</td>\n",
       "      <td>662</td>\n",
       "      <td>662</td>\n",
       "      <td>662</td>\n",
       "      <td>662</td>\n",
       "      <td>662</td>\n",
       "      <td>...</td>\n",
       "      <td>662</td>\n",
       "      <td>662</td>\n",
       "      <td>662</td>\n",
       "      <td>662</td>\n",
       "      <td>662</td>\n",
       "      <td>662</td>\n",
       "      <td>662</td>\n",
       "      <td>662</td>\n",
       "      <td>662</td>\n",
       "      <td>662</td>\n",
       "    </tr>\n",
       "  </tbody>\n",
       "</table>\n",
       "<p>3 rows × 31 columns</p>\n",
       "</div>"
      ],
      "text/plain": [
       "                VAERS_ID  SYMPTOM  ASSIGNED_GROUP   DIED  L_THREAT  HOSPITAL  \\\n",
       "SEVERITY_LEVEL                                                                 \n",
       "MILD               23836    23836           23836  23836     23836     23836   \n",
       "MODERATE            1984     1984            1984   1984      1984      1984   \n",
       "SEVERE               662      662             662    662       662       662   \n",
       "\n",
       "                AGE_YRS  AGE_GROUP  OTHER_MEDS  CUR_ILL  ...  VAX_SITE_RA  \\\n",
       "SEVERITY_LEVEL                                           ...                \n",
       "MILD              23836      23836       23836    23836  ...        23836   \n",
       "MODERATE           1984       1984        1984     1984  ...         1984   \n",
       "SEVERE              662        662         662      662  ...          662   \n",
       "\n",
       "                18-25  26-35  36-45  46-55  56-65  66-75  76-85  86-95   96 +  \n",
       "SEVERITY_LEVEL                                                                 \n",
       "MILD            23836  23836  23836  23836  23836  23836  23836  23836  23836  \n",
       "MODERATE         1984   1984   1984   1984   1984   1984   1984   1984   1984  \n",
       "SEVERE            662    662    662    662    662    662    662    662    662  \n",
       "\n",
       "[3 rows x 31 columns]"
      ]
     },
     "execution_count": 4,
     "metadata": {},
     "output_type": "execute_result"
    }
   ],
   "source": [
    "data_df.groupby(data_df['SEVERITY_LEVEL']).count()"
   ]
  },
  {
   "cell_type": "markdown",
   "id": "ad335f37",
   "metadata": {},
   "source": [
    "# Prep Data for Model"
   ]
  },
  {
   "cell_type": "code",
   "execution_count": 5,
   "id": "67ff1f5d",
   "metadata": {},
   "outputs": [
    {
     "data": {
      "text/html": [
       "<div>\n",
       "<style scoped>\n",
       "    .dataframe tbody tr th:only-of-type {\n",
       "        vertical-align: middle;\n",
       "    }\n",
       "\n",
       "    .dataframe tbody tr th {\n",
       "        vertical-align: top;\n",
       "    }\n",
       "\n",
       "    .dataframe thead th {\n",
       "        text-align: right;\n",
       "    }\n",
       "</style>\n",
       "<table border=\"1\" class=\"dataframe\">\n",
       "  <thead>\n",
       "    <tr style=\"text-align: right;\">\n",
       "      <th></th>\n",
       "      <th>OTHER_MEDS</th>\n",
       "      <th>HISTORY</th>\n",
       "      <th>PRIOR_VAX</th>\n",
       "      <th>ALLERGIES</th>\n",
       "      <th>F</th>\n",
       "      <th>M</th>\n",
       "      <th>JANSSEN</th>\n",
       "      <th>MODERNA</th>\n",
       "      <th>PFIZER</th>\n",
       "      <th>VAX_DOSE_SERIES_1</th>\n",
       "      <th>VAX_DOSE_SERIES_2</th>\n",
       "      <th>18-25</th>\n",
       "      <th>26-35</th>\n",
       "      <th>36-45</th>\n",
       "      <th>46-55</th>\n",
       "      <th>56-65</th>\n",
       "      <th>66-75</th>\n",
       "      <th>76-85</th>\n",
       "      <th>86-95</th>\n",
       "      <th>96 +</th>\n",
       "    </tr>\n",
       "  </thead>\n",
       "  <tbody>\n",
       "    <tr>\n",
       "      <th>0</th>\n",
       "      <td>0.0</td>\n",
       "      <td>0.0</td>\n",
       "      <td>0.0</td>\n",
       "      <td>1.0</td>\n",
       "      <td>1.0</td>\n",
       "      <td>0.0</td>\n",
       "      <td>0.0</td>\n",
       "      <td>1.0</td>\n",
       "      <td>0.0</td>\n",
       "      <td>1.0</td>\n",
       "      <td>0.0</td>\n",
       "      <td>0</td>\n",
       "      <td>1</td>\n",
       "      <td>0</td>\n",
       "      <td>0</td>\n",
       "      <td>0</td>\n",
       "      <td>0</td>\n",
       "      <td>0</td>\n",
       "      <td>0</td>\n",
       "      <td>0</td>\n",
       "    </tr>\n",
       "    <tr>\n",
       "      <th>1</th>\n",
       "      <td>1.0</td>\n",
       "      <td>1.0</td>\n",
       "      <td>0.0</td>\n",
       "      <td>1.0</td>\n",
       "      <td>1.0</td>\n",
       "      <td>0.0</td>\n",
       "      <td>0.0</td>\n",
       "      <td>1.0</td>\n",
       "      <td>0.0</td>\n",
       "      <td>1.0</td>\n",
       "      <td>0.0</td>\n",
       "      <td>0</td>\n",
       "      <td>0</td>\n",
       "      <td>0</td>\n",
       "      <td>0</td>\n",
       "      <td>1</td>\n",
       "      <td>0</td>\n",
       "      <td>0</td>\n",
       "      <td>0</td>\n",
       "      <td>0</td>\n",
       "    </tr>\n",
       "    <tr>\n",
       "      <th>2</th>\n",
       "      <td>1.0</td>\n",
       "      <td>0.0</td>\n",
       "      <td>0.0</td>\n",
       "      <td>1.0</td>\n",
       "      <td>1.0</td>\n",
       "      <td>0.0</td>\n",
       "      <td>0.0</td>\n",
       "      <td>1.0</td>\n",
       "      <td>0.0</td>\n",
       "      <td>1.0</td>\n",
       "      <td>0.0</td>\n",
       "      <td>0</td>\n",
       "      <td>0</td>\n",
       "      <td>0</td>\n",
       "      <td>0</td>\n",
       "      <td>1</td>\n",
       "      <td>0</td>\n",
       "      <td>0</td>\n",
       "      <td>0</td>\n",
       "      <td>0</td>\n",
       "    </tr>\n",
       "    <tr>\n",
       "      <th>3</th>\n",
       "      <td>1.0</td>\n",
       "      <td>0.0</td>\n",
       "      <td>0.0</td>\n",
       "      <td>1.0</td>\n",
       "      <td>1.0</td>\n",
       "      <td>0.0</td>\n",
       "      <td>0.0</td>\n",
       "      <td>1.0</td>\n",
       "      <td>0.0</td>\n",
       "      <td>1.0</td>\n",
       "      <td>0.0</td>\n",
       "      <td>0</td>\n",
       "      <td>0</td>\n",
       "      <td>0</td>\n",
       "      <td>0</td>\n",
       "      <td>1</td>\n",
       "      <td>0</td>\n",
       "      <td>0</td>\n",
       "      <td>0</td>\n",
       "      <td>0</td>\n",
       "    </tr>\n",
       "    <tr>\n",
       "      <th>4</th>\n",
       "      <td>1.0</td>\n",
       "      <td>1.0</td>\n",
       "      <td>0.0</td>\n",
       "      <td>1.0</td>\n",
       "      <td>1.0</td>\n",
       "      <td>0.0</td>\n",
       "      <td>0.0</td>\n",
       "      <td>1.0</td>\n",
       "      <td>0.0</td>\n",
       "      <td>1.0</td>\n",
       "      <td>0.0</td>\n",
       "      <td>0</td>\n",
       "      <td>0</td>\n",
       "      <td>1</td>\n",
       "      <td>0</td>\n",
       "      <td>0</td>\n",
       "      <td>0</td>\n",
       "      <td>0</td>\n",
       "      <td>0</td>\n",
       "      <td>0</td>\n",
       "    </tr>\n",
       "    <tr>\n",
       "      <th>...</th>\n",
       "      <td>...</td>\n",
       "      <td>...</td>\n",
       "      <td>...</td>\n",
       "      <td>...</td>\n",
       "      <td>...</td>\n",
       "      <td>...</td>\n",
       "      <td>...</td>\n",
       "      <td>...</td>\n",
       "      <td>...</td>\n",
       "      <td>...</td>\n",
       "      <td>...</td>\n",
       "      <td>...</td>\n",
       "      <td>...</td>\n",
       "      <td>...</td>\n",
       "      <td>...</td>\n",
       "      <td>...</td>\n",
       "      <td>...</td>\n",
       "      <td>...</td>\n",
       "      <td>...</td>\n",
       "      <td>...</td>\n",
       "    </tr>\n",
       "    <tr>\n",
       "      <th>26477</th>\n",
       "      <td>1.0</td>\n",
       "      <td>1.0</td>\n",
       "      <td>1.0</td>\n",
       "      <td>1.0</td>\n",
       "      <td>0.0</td>\n",
       "      <td>1.0</td>\n",
       "      <td>0.0</td>\n",
       "      <td>1.0</td>\n",
       "      <td>0.0</td>\n",
       "      <td>0.0</td>\n",
       "      <td>1.0</td>\n",
       "      <td>0</td>\n",
       "      <td>0</td>\n",
       "      <td>0</td>\n",
       "      <td>0</td>\n",
       "      <td>0</td>\n",
       "      <td>1</td>\n",
       "      <td>0</td>\n",
       "      <td>0</td>\n",
       "      <td>0</td>\n",
       "    </tr>\n",
       "    <tr>\n",
       "      <th>26478</th>\n",
       "      <td>1.0</td>\n",
       "      <td>1.0</td>\n",
       "      <td>0.0</td>\n",
       "      <td>1.0</td>\n",
       "      <td>1.0</td>\n",
       "      <td>0.0</td>\n",
       "      <td>0.0</td>\n",
       "      <td>0.0</td>\n",
       "      <td>1.0</td>\n",
       "      <td>1.0</td>\n",
       "      <td>0.0</td>\n",
       "      <td>0</td>\n",
       "      <td>0</td>\n",
       "      <td>0</td>\n",
       "      <td>0</td>\n",
       "      <td>0</td>\n",
       "      <td>0</td>\n",
       "      <td>1</td>\n",
       "      <td>0</td>\n",
       "      <td>0</td>\n",
       "    </tr>\n",
       "    <tr>\n",
       "      <th>26479</th>\n",
       "      <td>1.0</td>\n",
       "      <td>1.0</td>\n",
       "      <td>0.0</td>\n",
       "      <td>1.0</td>\n",
       "      <td>0.0</td>\n",
       "      <td>1.0</td>\n",
       "      <td>0.0</td>\n",
       "      <td>0.0</td>\n",
       "      <td>1.0</td>\n",
       "      <td>1.0</td>\n",
       "      <td>0.0</td>\n",
       "      <td>0</td>\n",
       "      <td>0</td>\n",
       "      <td>0</td>\n",
       "      <td>0</td>\n",
       "      <td>0</td>\n",
       "      <td>0</td>\n",
       "      <td>1</td>\n",
       "      <td>0</td>\n",
       "      <td>0</td>\n",
       "    </tr>\n",
       "    <tr>\n",
       "      <th>26480</th>\n",
       "      <td>0.0</td>\n",
       "      <td>1.0</td>\n",
       "      <td>0.0</td>\n",
       "      <td>0.0</td>\n",
       "      <td>1.0</td>\n",
       "      <td>0.0</td>\n",
       "      <td>0.0</td>\n",
       "      <td>0.0</td>\n",
       "      <td>1.0</td>\n",
       "      <td>1.0</td>\n",
       "      <td>0.0</td>\n",
       "      <td>0</td>\n",
       "      <td>0</td>\n",
       "      <td>0</td>\n",
       "      <td>0</td>\n",
       "      <td>0</td>\n",
       "      <td>0</td>\n",
       "      <td>1</td>\n",
       "      <td>0</td>\n",
       "      <td>0</td>\n",
       "    </tr>\n",
       "    <tr>\n",
       "      <th>26481</th>\n",
       "      <td>1.0</td>\n",
       "      <td>1.0</td>\n",
       "      <td>0.0</td>\n",
       "      <td>0.0</td>\n",
       "      <td>0.0</td>\n",
       "      <td>1.0</td>\n",
       "      <td>0.0</td>\n",
       "      <td>1.0</td>\n",
       "      <td>0.0</td>\n",
       "      <td>1.0</td>\n",
       "      <td>0.0</td>\n",
       "      <td>0</td>\n",
       "      <td>1</td>\n",
       "      <td>0</td>\n",
       "      <td>0</td>\n",
       "      <td>0</td>\n",
       "      <td>0</td>\n",
       "      <td>0</td>\n",
       "      <td>0</td>\n",
       "      <td>0</td>\n",
       "    </tr>\n",
       "  </tbody>\n",
       "</table>\n",
       "<p>26482 rows × 20 columns</p>\n",
       "</div>"
      ],
      "text/plain": [
       "       OTHER_MEDS  HISTORY  PRIOR_VAX  ALLERGIES    F    M  JANSSEN  MODERNA  \\\n",
       "0             0.0      0.0        0.0        1.0  1.0  0.0      0.0      1.0   \n",
       "1             1.0      1.0        0.0        1.0  1.0  0.0      0.0      1.0   \n",
       "2             1.0      0.0        0.0        1.0  1.0  0.0      0.0      1.0   \n",
       "3             1.0      0.0        0.0        1.0  1.0  0.0      0.0      1.0   \n",
       "4             1.0      1.0        0.0        1.0  1.0  0.0      0.0      1.0   \n",
       "...           ...      ...        ...        ...  ...  ...      ...      ...   \n",
       "26477         1.0      1.0        1.0        1.0  0.0  1.0      0.0      1.0   \n",
       "26478         1.0      1.0        0.0        1.0  1.0  0.0      0.0      0.0   \n",
       "26479         1.0      1.0        0.0        1.0  0.0  1.0      0.0      0.0   \n",
       "26480         0.0      1.0        0.0        0.0  1.0  0.0      0.0      0.0   \n",
       "26481         1.0      1.0        0.0        0.0  0.0  1.0      0.0      1.0   \n",
       "\n",
       "       PFIZER  VAX_DOSE_SERIES_1  VAX_DOSE_SERIES_2  18-25  26-35  36-45  \\\n",
       "0         0.0                1.0                0.0      0      1      0   \n",
       "1         0.0                1.0                0.0      0      0      0   \n",
       "2         0.0                1.0                0.0      0      0      0   \n",
       "3         0.0                1.0                0.0      0      0      0   \n",
       "4         0.0                1.0                0.0      0      0      1   \n",
       "...       ...                ...                ...    ...    ...    ...   \n",
       "26477     0.0                0.0                1.0      0      0      0   \n",
       "26478     1.0                1.0                0.0      0      0      0   \n",
       "26479     1.0                1.0                0.0      0      0      0   \n",
       "26480     1.0                1.0                0.0      0      0      0   \n",
       "26481     0.0                1.0                0.0      0      1      0   \n",
       "\n",
       "       46-55  56-65  66-75  76-85  86-95  96 +  \n",
       "0          0      0      0      0      0     0  \n",
       "1          0      1      0      0      0     0  \n",
       "2          0      1      0      0      0     0  \n",
       "3          0      1      0      0      0     0  \n",
       "4          0      0      0      0      0     0  \n",
       "...      ...    ...    ...    ...    ...   ...  \n",
       "26477      0      0      1      0      0     0  \n",
       "26478      0      0      0      1      0     0  \n",
       "26479      0      0      0      1      0     0  \n",
       "26480      0      0      0      1      0     0  \n",
       "26481      0      0      0      0      0     0  \n",
       "\n",
       "[26482 rows x 20 columns]"
      ]
     },
     "execution_count": 5,
     "metadata": {},
     "output_type": "execute_result"
    }
   ],
   "source": [
    "# Create Features by dropping columns we do not need (or already have in feature format)\n",
    "X = data_df.drop(['VAERS_ID', 'SYMPTOM','ASSIGNED_GROUP','SEVERITY_LEVEL','HOSPITAL', 'DIED', 'L_THREAT', 'CUR_ILL', 'VAX_SITE_LA', 'VAX_SITE_RA', 'AGE_YRS', 'AGE_GROUP'], axis=1)\n",
    "X"
   ]
  },
  {
   "cell_type": "code",
   "execution_count": 6,
   "id": "dd5e9449",
   "metadata": {},
   "outputs": [
    {
     "data": {
      "text/plain": [
       "array([0, 0, 0, ..., 2, 1, 1])"
      ]
     },
     "execution_count": 6,
     "metadata": {},
     "output_type": "execute_result"
    }
   ],
   "source": [
    "# Create Target (Severity Level column) and convert to numbers\n",
    "y = LabelEncoder().fit_transform(data_df['SEVERITY_LEVEL'])\n",
    "y"
   ]
  },
  {
   "cell_type": "code",
   "execution_count": 7,
   "id": "0afb9f8a",
   "metadata": {},
   "outputs": [],
   "source": [
    "# Split into Train and Test sets\n",
    "X_train, X_test, y_train, y_test = train_test_split(X, y, random_state=42)"
   ]
  },
  {
   "cell_type": "markdown",
   "id": "e2b89234",
   "metadata": {},
   "source": [
    "# Test KNN Model"
   ]
  },
  {
   "cell_type": "code",
   "execution_count": 8,
   "id": "180a0962",
   "metadata": {},
   "outputs": [
    {
     "name": "stdout",
     "output_type": "stream",
     "text": [
      "k: 1, Train/Test Score: 0.847/0.844\n",
      "k: 3, Train/Test Score: 0.894/0.893\n",
      "k: 5, Train/Test Score: 0.895/0.894\n",
      "k: 7, Train/Test Score: 0.897/0.895\n",
      "k: 9, Train/Test Score: 0.899/0.900\n",
      "k: 11, Train/Test Score: 0.897/0.897\n",
      "k: 13, Train/Test Score: 0.899/0.900\n",
      "k: 15, Train/Test Score: 0.899/0.902\n",
      "k: 17, Train/Test Score: 0.899/0.902\n",
      "k: 19, Train/Test Score: 0.899/0.901\n"
     ]
    }
   ],
   "source": [
    "# Loop through different k values to find which has the highest accuracy.\n",
    "# Note: We use only odd numbers because we don't want any ties.\n",
    "train_scores = []\n",
    "test_scores = []\n",
    "\n",
    "for k in range(1, 20, 2):\n",
    "    knn = KNeighborsClassifier(n_neighbors=k)\n",
    "    knn.fit(X_train, y_train)\n",
    "    train_score = knn.score(X_train, y_train)\n",
    "    test_score = knn.score(X_test, y_test)\n",
    "    train_scores.append(train_score)\n",
    "    test_scores.append(test_score)\n",
    "    print(f\"k: {k}, Train/Test Score: {train_score:.3f}/{test_score:.3f}\")"
   ]
  },
  {
   "cell_type": "code",
   "execution_count": 9,
   "id": "ce47981f",
   "metadata": {},
   "outputs": [
    {
     "data": {
      "image/png": "[encoded data removed]",
      "text/plain": [
       "<Figure size 432x288 with 1 Axes>"
      ]
     },
     "metadata": {
      "needs_background": "light"
     },
     "output_type": "display_data"
    }
   ],
   "source": [
    "# Plot K Results\n",
    "plt.plot(range(1, 20, 2), train_scores, marker='o')\n",
    "plt.plot(range(1, 20, 2), test_scores, marker=\"x\")\n",
    "plt.xlabel(\"k neighbors\")\n",
    "plt.ylabel(\"Testing accuracy score\")\n",
    "plt.show()"
   ]
  },
  {
   "cell_type": "markdown",
   "id": "6eeb85b6",
   "metadata": {},
   "source": [
    "# Create KNN Model"
   ]
  },
  {
   "cell_type": "code",
   "execution_count": 13,
   "id": "2015de9d",
   "metadata": {},
   "outputs": [
    {
     "name": "stdout",
     "output_type": "stream",
     "text": [
      "k=13 Test Acc: 0.900\n"
     ]
    }
   ],
   "source": [
    "# Note that k: 13 provides the best accuracy where the classifier starts to stablize\n",
    "knn = KNeighborsClassifier(n_neighbors=13)\n",
    "knn.fit(X_train, y_train)\n",
    "print('k=13 Test Acc: %.3f' % knn.score(X_test, y_test))"
   ]
  },
  {
   "cell_type": "markdown",
   "id": "041a5a21",
   "metadata": {},
   "source": [
    "# Test Predict"
   ]
  },
  {
   "cell_type": "code",
   "execution_count": 42,
   "id": "13eb911a",
   "metadata": {},
   "outputs": [
    {
     "name": "stdout",
     "output_type": "stream",
     "text": [
      "['MILD']\n"
     ]
    }
   ],
   "source": [
    "# Sample Prediction 1\n",
    "sample_user1 = [[1,1,1,1,0,1,0,0,1,0,1,0,0,0,0,0,0,0,0,1]]\n",
    "predicted_symptoms1 = knn.predict(sample_user1)\n",
    "print(severity[predicted_symptoms1])"
   ]
  },
  {
   "cell_type": "markdown",
   "id": "1c83c379",
   "metadata": {},
   "source": [
    "# Get Nearest Neighbors Symptoms"
   ]
  },
  {
   "cell_type": "code",
   "execution_count": 38,
   "id": "4163634a",
   "metadata": {},
   "outputs": [
    {
     "name": "stdout",
     "output_type": "stream",
     "text": [
      "[24399, 4421, 9823, 13471, 21509, 5634, 20640, 8215, 25028, 15392, 5074, 7598, 5771, 19147, 26333, 20781, 8773, 10413, 20582, 4169, 12313, 12227, 12068, 4545, 4273, 5128, 581, 12409, 4367, 4380, 5042, 12436, 12137, 12511, 4974, 11683, 4597, 10403, 5022, 4518, 12496, 12274, 4165, 10422, 11094, 4512, 12094, 10915, 10257, 12161]\n"
     ]
    }
   ],
   "source": [
    "# Return 50 closest symptoms for those nearest neighbors\n",
    "tree = KDTree(X)\n",
    "dist, ind = tree.query(sample_user1, k=50)\n",
    "\n",
    "#convery ndarry to list \n",
    "like_users = ind[0].tolist()\n",
    "print(like_users)  # indices of closest neighbors"
   ]
  },
  {
   "cell_type": "code",
   "execution_count": 39,
   "id": "b094a57c",
   "metadata": {},
   "outputs": [
    {
     "data": {
      "text/plain": [
       "array(['Abdominal Pain/Discomfort', 'Anaphylactic reaction', 'Arterial',\n",
       "       'Chest Discomfort', 'Chills', 'Cough', 'Fatigue', 'Fever',\n",
       "       'Injection Site Irritation/Discomfort', 'Joint Pain/Discomfort',\n",
       "       'Lethargy', 'Migraine/Headache', 'Neck pain', 'Pulmonary',\n",
       "       'Taste abnormal', 'Weakness'], dtype='<U36')"
      ]
     },
     "execution_count": 39,
     "metadata": {},
     "output_type": "execute_result"
    }
   ],
   "source": [
    "# save nearest neighbors symptoms as list for wordcloud\n",
    "get_symptoms = data_df['ASSIGNED_GROUP'].iloc[like_users].tolist()\n",
    "symptom_array = np.array(get_symptoms)\n",
    "nearest_symptoms = np.unique(symptom_array)\n",
    "nearest_symptoms\n"
   ]
  },
  {
   "cell_type": "markdown",
   "id": "5c74882d",
   "metadata": {},
   "source": [
    "# Plot Wordcloud"
   ]
  },
  {
   "cell_type": "code",
   "execution_count": 40,
   "id": "eadaa4a2",
   "metadata": {},
   "outputs": [
    {
     "data": {
      "image/png": "[encoded data removed]",
      "text/plain": [
       "<Figure size 1080x576 with 1 Axes>"
      ]
     },
     "metadata": {
      "needs_background": "light"
     },
     "output_type": "display_data"
    }
   ],
   "source": [
    "#convert list to string and generate\n",
    "unique_string=(\" \").join(nearest_symptoms)\n",
    "\n",
    "#create circle mask\n",
    "x, y = np.ogrid[:300, :300]\n",
    "mask = (x - 150) ** 2 + (y - 150) ** 2 > 130 ** 2\n",
    "mask = 255 * mask.astype(int)\n",
    "\n",
    "wordcloud = WordCloud(width = 1000, height = 500, mask=mask).generate(unique_string)\n",
    "plt.figure(figsize=(15,8))\n",
    "plt.imshow(wordcloud)\n",
    "plt.axis(\"off\")\n",
    "plt.show()\n",
    "plt.close()\n"
   ]
  },
  {
   "cell_type": "markdown",
   "id": "344418c8",
   "metadata": {},
   "source": [
    "# Another Sample Prediction"
   ]
  },
  {
   "cell_type": "code",
   "execution_count": 41,
   "id": "2a28f7df",
   "metadata": {},
   "outputs": [
    {
     "name": "stdout",
     "output_type": "stream",
     "text": [
      "['MILD']\n"
     ]
    }
   ],
   "source": [
    "# Sample Prediction 2\n",
    "sample_user2 = [[1,1,1,1,0,1,0,0,1,0,1,0,0,0,0,0,0,0,0,1]]\n",
    "predicted_symptoms2 = knn.predict(sample_user2)\n",
    "print(severity[predicted_symptoms2])"
   ]
  },
  {
   "cell_type": "code",
   "execution_count": 43,
   "id": "9e28f72e",
   "metadata": {},
   "outputs": [
    {
     "name": "stdout",
     "output_type": "stream",
     "text": [
      "[24399, 4421, 9823, 13471, 21509, 5634, 20640, 8215, 25028, 15392, 5074, 7598, 5771, 19147, 26333, 20781, 8773, 10413, 20582, 4169, 12313, 12227, 12068, 4545, 4273, 5128, 581, 12409, 4367, 4380, 5042, 12436, 12137, 12511, 4974, 11683, 4597, 10403, 5022, 4518, 12496, 12274, 4165, 10422, 11094, 4512, 12094, 10915, 10257, 12161]\n"
     ]
    }
   ],
   "source": [
    "# Return 50 closest symptoms for those nearest neighbors\n",
    "tree = KDTree(X)\n",
    "dist, ind = tree.query(sample_user2, k=50)\n",
    "\n",
    "#convery ndarry to list \n",
    "like_users2 = ind[0].tolist()\n",
    "print(like_users2)  # indices of closest neighbors"
   ]
  },
  {
   "cell_type": "code",
   "execution_count": 44,
   "id": "1175c152",
   "metadata": {},
   "outputs": [
    {
     "data": {
      "text/plain": [
       "array(['Abdominal Pain/Discomfort', 'Anaphylactic reaction', 'Arterial',\n",
       "       'Chest Discomfort', 'Chills', 'Cough', 'Fatigue', 'Fever',\n",
       "       'Injection Site Irritation/Discomfort', 'Joint Pain/Discomfort',\n",
       "       'Lethargy', 'Migraine/Headache', 'Neck pain', 'Pulmonary',\n",
       "       'Taste abnormal', 'Weakness'], dtype='<U36')"
      ]
     },
     "execution_count": 44,
     "metadata": {},
     "output_type": "execute_result"
    }
   ],
   "source": [
    "# save nearest neighbors symptoms as list for wordcloud\n",
    "get_symptoms2 = data_df['ASSIGNED_GROUP'].iloc[like_users2].tolist()\n",
    "symptom_array2 = np.array(get_symptoms2)\n",
    "nearest_symptoms2 = np.unique(symptom_array2)\n",
    "nearest_symptoms2\n"
   ]
  },
  {
   "cell_type": "code",
   "execution_count": 45,
   "id": "33a58932",
   "metadata": {},
   "outputs": [
    {
     "data": {
      "image/png": "[encoded data removed]",
      "text/plain": [
       "<Figure size 1080x576 with 1 Axes>"
      ]
     },
     "metadata": {
      "needs_background": "light"
     },
     "output_type": "display_data"
    }
   ],
   "source": [
    "#convert list to string and generate\n",
    "unique_string2=(\" \").join(nearest_symptoms2)\n",
    "\n",
    "#create circle mask\n",
    "x2, y2 = np.ogrid[:300, :300]\n",
    "mask2 = (x - 150) ** 2 + (y - 150) ** 2 > 130 ** 2\n",
    "mask2 = 255 * mask2.astype(int)\n",
    "\n",
    "wordcloud2 = WordCloud(width = 1000, height = 500, mask=mask).generate(unique_string2)\n",
    "plt.figure(figsize=(15,8))\n",
    "plt.imshow(wordcloud)\n",
    "plt.axis(\"off\")\n",
    "plt.show()\n",
    "plt.close()\n"
   ]
  },
  {
   "cell_type": "markdown",
   "id": "b28becc5",
   "metadata": {},
   "source": [
    "# Save the Model"
   ]
  },
  {
   "cell_type": "code",
   "execution_count": 48,
   "id": "a5af98b5",
   "metadata": {},
   "outputs": [],
   "source": [
    "# save model\n",
    "with open(f'../final_knn_model.sav', 'wb') as f:\n",
    "    pickle.dump(knn, f)\n",
    "    "
   ]
  },
  {
   "cell_type": "markdown",
   "id": "23de86d4",
   "metadata": {},
   "source": [
    "# User Input"
   ]
  },
  {
   "cell_type": "code",
   "execution_count": 49,
   "id": "83715729",
   "metadata": {},
   "outputs": [],
   "source": [
    "# Define list of features and create empty user input list\n",
    "features_np = ['OTHER_MEDS', 'HISTORY', 'PRIOR_VAX', 'ALLERGIES', 'F', 'M', 'JANSSEN', 'MODERNA', 'PFIZER',\n",
    "       'VAX_DOSE_SERIES_1', 'VAX_DOSE_SERIES_2', '18-25', '26-35', '36-45', '46-55', '56-65', '66-75', '76-85', '86-95',\n",
    "       '96 +']\n",
    "user_input = np.zeros(len(features_np))\n"
   ]
  },
  {
   "cell_type": "code",
   "execution_count": 50,
   "id": "606578da",
   "metadata": {},
   "outputs": [
    {
     "name": "stdout",
     "output_type": "stream",
     "text": [
      "[0. 0. 0. 0. 1. 0. 0. 0. 1. 0. 1. 0. 0. 1. 0. 0. 0. 0. 0. 0.]\n"
     ]
    }
   ],
   "source": [
    "# Raw User Input from user fields\n",
    "age_group = '36-45'\n",
    "sex = 'F'\n",
    "other_meds = 0\n",
    "history = 0\n",
    "prior_vax = 0\n",
    "allergies = 0\n",
    "vax_name = 'PFIZER'\n",
    "vax_dose = '2'\n",
    "\n",
    "# Convert user input to list for model\n",
    "\n",
    "age_idx = features_np.index(f'{age_group}')\n",
    "sex_idx = features_np.index(f'{sex}')\n",
    "vax_idx = features_np.index(f'{vax_name}')\n",
    "dose_idx = features_np.index(f'VAX_DOSE_SERIES_{vax_dose}')\n",
    "\n",
    "user_input[0] = other_meds\n",
    "user_input[1] = history\n",
    "user_input[2] = prior_vax\n",
    "user_input[3] = allergies\n",
    "user_input[sex_idx] = 1\n",
    "user_input[vax_idx] = 1\n",
    "user_input[dose_idx] = 1\n",
    "user_input[age_idx] = 1\n",
    "\n",
    "\n",
    "print(user_input)\n"
   ]
  },
  {
   "cell_type": "code",
   "execution_count": 51,
   "id": "817fabb1",
   "metadata": {},
   "outputs": [
    {
     "name": "stdout",
     "output_type": "stream",
     "text": [
      "['MILD']\n"
     ]
    }
   ],
   "source": [
    "# Real Prediction\n",
    "user_test = user_input\n",
    "predicted_symptoms = knn.predict([user_test])\n",
    "print(severity[predicted_symptoms])"
   ]
  },
  {
   "cell_type": "code",
   "execution_count": null,
   "id": "1af5744b",
   "metadata": {},
   "outputs": [],
   "source": []
  }
 ],
 "metadata": {
  "kernelspec": {
   "display_name": "Python [conda env:project4]",
   "language": "python",
   "name": "conda-env-project4-py"
  },
  "language_info": {
   "codemirror_mode": {
    "name": "ipython",
    "version": 3
   },
   "file_extension": ".py",
   "mimetype": "text/x-python",
   "name": "python",
   "nbconvert_exporter": "python",
   "pygments_lexer": "ipython3",
   "version": "3.6.10"
  }
 },
 "nbformat": 4,
 "nbformat_minor": 5
}
